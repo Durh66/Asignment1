{
 "cells": [
  {
   "cell_type": "markdown",
   "id": "d119428b-725b-4bfc-b799-51f0ad5e1ea2",
   "metadata": {},
   "source": [
    "# 1 . Write a Python program to add an item to a tuple.\n",
    "\r\n"
   ]
  },
  {
   "cell_type": "code",
   "execution_count": null,
   "id": "2e5a3b13-0e8d-46b8-a9de-9ad269778b6a",
   "metadata": {},
   "outputs": [],
   "source": [
    "ind_num = int(input(\"how many items you want in your tuple\"))\n",
    "mytuple = []\n",
    "for i in range(ind_num):\n",
    "    n = 1 \n",
    "    items = input(f\"please enter your tuple elemnent number {n}\")\n",
    "    mytuple.append(items)\n",
    "    n+=n\n",
    "  \n",
    "mytuple = tuple(mytuple)  \n",
    "print(f\"your tuple is {mytuple}\")"
   ]
  },
  {
   "cell_type": "markdown",
   "id": "08e82bdf-3213-4709-8526-87ed1db0bd2f",
   "metadata": {},
   "source": [
    "# 2. Write a Python program to sum all the items in a list.\n"
   ]
  },
  {
   "cell_type": "code",
   "execution_count": null,
   "id": "fe0b503f-2f76-41d0-93f2-d2af4ca09d35",
   "metadata": {},
   "outputs": [],
   "source": [
    "ind_num = int(input(\"how many items you want in your list\"))\n",
    "mylist= []\n",
    "for i in range(ind_num):\n",
    "    itm = float(input(\"enter the numberss you want\"))\n",
    "    mylist.append(itm)\n",
    "   \n",
    "mysum = 0\n",
    "print(f\"your list is {mylist}\")\n",
    "\n",
    "for i in mylist:\n",
    "    mysum += i \n",
    "    \n",
    "print(f\"your sum {mysum}\")\n",
    "    "
   ]
  },
  {
   "cell_type": "markdown",
   "id": "5ac4f702-e776-47f9-9470-8fc2ab8d2131",
   "metadata": {},
   "source": [
    " # 3. Write a Python program to multiply all the items in a list.\r\n"
   ]
  },
  {
   "cell_type": "code",
   "execution_count": null,
   "id": "6734a206-fb74-4ea8-bd90-f0b43a259ea3",
   "metadata": {},
   "outputs": [],
   "source": [
    "ind_num = int(input(\"how many items you want in your list\"))\n",
    "mylist= []\n",
    "for i in range(ind_num):\n",
    "    itm = float(input(\"enter the numberss you want\"))\n",
    "    mylist.append(itm)\n",
    "   \n",
    "mymlty = 1\n",
    "print(f\"your list is {mylist}\")\n",
    "\n",
    "for i in mylist:\n",
    "    mymlty *= i \n",
    "    \n",
    "print(f\"your elements myltyplied {mymlty}\")"
   ]
  },
  {
   "cell_type": "markdown",
   "id": "08da4647-3514-4c03-adb8-9110f52c7c91",
   "metadata": {},
   "source": [
    "# 4. Write a Python program to get the smallest number from a list.\r\n"
   ]
  },
  {
   "cell_type": "code",
   "execution_count": null,
   "id": "d33a4332-929d-4d4f-9fe1-ac71ef774c8b",
   "metadata": {},
   "outputs": [],
   "source": [
    "ind_num = int(input(\"how many items you want in your list\"))\n",
    "mylist= []\n",
    "for i in range(ind_num):\n",
    "    itm = float(input(\"enter the numberss you want\"))\n",
    "    mylist.append(itm)\n",
    "   \n",
    "mysum = 0\n",
    "print(f\"your list is {mylist}\")\n",
    "minval = mylist[0]\n",
    "\n",
    "for i in mylist:\n",
    "    if i < minval:\n",
    "        minval = i\n",
    "        \n",
    "    \n",
    "print(f\"your min value is {minval}\")\n",
    "    \n"
   ]
  },
  {
   "cell_type": "markdown",
   "id": "a03ae8ed-c1ef-46f2-af34-72a66a882b6a",
   "metadata": {},
   "source": [
    "# 5. Write a Python program to get the largest number from a list.\r\n"
   ]
  },
  {
   "cell_type": "code",
   "execution_count": null,
   "id": "b5c9f051-ffe6-4cb3-86d9-5e10519d01e0",
   "metadata": {},
   "outputs": [],
   "source": [
    "ind_num = int(input(\"how many items you want in your list\"))\n",
    "mylist= []\n",
    "for i in range(ind_num):\n",
    "    itm = float(input(\"enter the numberss you want\"))\n",
    "    mylist.append(itm)\n",
    "   \n",
    "mysum = 0\n",
    "print(f\"your list is {mylist}\")\n",
    "maxval = mylist[0]\n",
    "\n",
    "for i in mylist:\n",
    "    if i > maxval:\n",
    "        maxval = i\n",
    "        \n",
    "    \n",
    "print(f\"your max value is {maxval}\")\n",
    "    \n"
   ]
  },
  {
   "cell_type": "markdown",
   "id": "e2a3fc60-4c65-452a-943c-022c6bc193fe",
   "metadata": {},
   "source": [
    "# 6. Write a Python program to count the number of strings from a given list of strings\r",
    "s"
   ]
  },
  {
   "cell_type": "code",
   "execution_count": null,
   "id": "884c28c8-6919-46b6-b2df-31a2796c460c",
   "metadata": {},
   "outputs": [],
   "source": [
    "\n",
    "ind_num = int(input(\"how many items you want in your list\"))\n",
    "mylist= []\n",
    "for i in range(ind_num):\n",
    "    itm = input(\"enter the numberss you want\")\n",
    "    #i faced a problem that if i input 3 it will coount it as a string but itsnt so i wnated a code that can differ between the two i tried this but it didnt work because it will break if i input an actuals string\n",
    "    #  if itm == float(itm):\n",
    "    # itm = float(itm)\n",
    "    # mylist.append(itm)\n",
    "    #so i did a reserch found this function\n",
    "    try:\n",
    "        itm = float(itm)\n",
    "        # If it's actually an integer, convert it to int.\n",
    "        if itm.is_integer():\n",
    "            itm = int(itm)\n",
    "    except ValueError:\n",
    "        pass  # If conversion fails, itm remains a string.\n",
    "    \n",
    "    mylist.append(itm)\n",
    "   \n",
    "   \n",
    "    \n",
    "  \n",
    "   \n",
    " \n",
    "print(f\"your list is {mylist}\")\n",
    "\n",
    "strin = 0\n",
    "for i in mylist:\n",
    "    if isinstance(i,str):\n",
    "        strin +=1\n",
    "        \n",
    "    \n",
    "print(f\"the number of strings that exist in yor list is {strin}\")\n",
    "    \n"
   ]
  },
  {
   "cell_type": "markdown",
   "id": "abc0d176-5e0b-4baa-8515-9a532df010b6",
   "metadata": {},
   "source": [
    "# 7. Write a Python program to clone or copy a list\n",
    "\r\n"
   ]
  },
  {
   "cell_type": "code",
   "execution_count": null,
   "id": "b74809ac-7628-4143-b667-1e2e59cc75f7",
   "metadata": {},
   "outputs": [],
   "source": [
    "ind_num = int(input(\"how many items you want in your list that you want to copy\"))\n",
    "mylist= []\n",
    "for i in range(ind_num):\n",
    "    itm = float(input(\"enter the items in your list\"))\n",
    "    mylist.append(itm)\n",
    "   \n",
    "print(f\"your list is {mylist}\")\n",
    "cloend_list = []\n",
    "for i in mylist:\n",
    "    cloend_list.append(i)\n",
    "    \n",
    "print(f\"the cloend list is {cloend_list}\")\n",
    "    \n",
    "    \n",
    "    "
   ]
  },
  {
   "cell_type": "markdown",
   "id": "05884a2d-56bb-4a32-bf72-ab5dc7f101c0",
   "metadata": {},
   "source": [
    "# Write a Python program to remove item(s) from a given set."
   ]
  },
  {
   "cell_type": "code",
   "execution_count": null,
   "id": "25b13f7b-4671-4b63-bbb8-ff20086affd1",
   "metadata": {},
   "outputs": [],
   "source": [
    "ind_num = int(input(\"enter how many  items in your list\"))\n",
    "mylist= []\n",
    "for i in range(ind_num):\n",
    "    itm = input(\"enter the items in your list\")\n",
    "    mylist.append(itm)\n",
    "   \n",
    "print(f\"your list is {mylist}\")\n",
    "n= int(input(\"enter how many  items you want to remove\"))\n",
    "\n",
    "for i in range(n):\n",
    "    inde = int(input(\"enter the index\"))\n",
    "    del mylist[inde]\n",
    "   \n",
    "print(f\"the new list is{mylist}\")\n",
    "    \n",
    "\n",
    "    "
   ]
  },
  {
   "cell_type": "markdown",
   "id": "34f711cc-aa2c-4d1e-ab48-1c1a6d51a9bb",
   "metadata": {},
   "source": [
    "# 9. Write a Python program to check if a set is a subset of another set.\r\n"
   ]
  },
  {
   "cell_type": "code",
   "execution_count": null,
   "id": "0b0e8354-806e-44dd-b0e2-cb6334ece7b8",
   "metadata": {},
   "outputs": [],
   "source": [
    "set1 = {1, 2, 3}\n",
    "set2 = {1, 2, 3, 4, 5}\n",
    "\n",
    "if set1.issubset(set2):\n",
    "    print(\"set1 is a subset of set2\")\n",
    "else:\n",
    "    print(\"set1 is not a subset of set2\")\n",
    "\n",
    "if set1 <= set2:\n",
    "    print(\"set1 is a subset of set2\")\n",
    "else:\n",
    "    print(\"set1 is not a subset of set2\")"
   ]
  },
  {
   "cell_type": "markdown",
   "id": "1170ffc8-e70d-4d12-8681-60436c08a674",
   "metadata": {},
   "source": [
    "# 10. Write a Python program to remove all elements from a given set.\r\n"
   ]
  },
  {
   "cell_type": "code",
   "execution_count": null,
   "id": "4909ca29-f709-4bbc-9d85-f9e650a0ce41",
   "metadata": {},
   "outputs": [],
   "source": [
    "set_size = int(input(\"enter the set size\"))\n",
    "myset = {input(f\"enter your {i+1} int the list\") for i in range(set_size)}\n",
    "\n",
    "print(f\"your set is {myset} now deleting your set \")\n",
    "myset.clear()\n",
    "print(f\"the set after deletion {myset}\")\n",
    "    \n",
    "    "
   ]
  },
  {
   "cell_type": "markdown",
   "id": "e860aa56-c6d5-444d-9f6c-24acb2375f44",
   "metadata": {},
   "source": [
    "# 11. Write a Python program to find the maximum and minimum values in a set\n"
   ]
  },
  {
   "cell_type": "code",
   "execution_count": null,
   "id": "1044ec04-5925-45f1-8a29-1a3b66d62f78",
   "metadata": {},
   "outputs": [],
   "source": [
    "set_size = int(input(\"enter the set size\"))\n",
    "myset = {int(input(f\"enter the {i+1} number in your set t\") )for i in range(set_size)}\n",
    "\n",
    "print(f\"your set is {myset} now deleting your set \")\n",
    "myset1 = list(myset)\n",
    "minval=myset1[0]\n",
    "maxval = myset1[0]\n",
    "for x in myset:\n",
    "    if x>maxval:\n",
    "        maxval= x\n",
    "        \n",
    "        \n",
    "    if x<minval:\n",
    "        minval= x\n",
    "        \n",
    "    \n",
    "print(f\"the max val is {maxval}\")\n",
    "print(f\"the min val is {minval}\")"
   ]
  },
  {
   "cell_type": "markdown",
   "id": "3e4e9ae2-e0bc-4952-8d6f-c1f072b50776",
   "metadata": {},
   "source": [
    "# 12. Write a Python program to find the index of an item in a tuple.\r\n"
   ]
  },
  {
   "cell_type": "code",
   "execution_count": 16,
   "id": "2c04e1da-1432-4625-aea2-3144de343f82",
   "metadata": {},
   "outputs": [
    {
     "name": "stdout",
     "output_type": "stream",
     "text": [
      "('apple', 'banana', 'orange', 'grape', 'banana')\n"
     ]
    },
    {
     "name": "stdin",
     "output_type": "stream",
     "text": [
      "write the value of the item you want to find the index of apple\n"
     ]
    },
    {
     "name": "stdout",
     "output_type": "stream",
     "text": [
      "0\n"
     ]
    }
   ],
   "source": [
    "ind_num = int(input(\"how many items you want in your tuple\"))\n",
    "mytuple = []\n",
    "for i in range(ind_num):\n",
    "    \n",
    "    items = input(f\"enter the elements of the tuple\")\n",
    "    mytuple.append(items)\n",
    "    \n",
    "  \n",
    "mytuple = tuple(mytuple)  \n",
    "print(f\"your tuple is {mytuple}\")\n",
    "ind = input(\"write the value of the item you want to find the index of\")\n",
    "print(f\"the index of the item {ind} is {mytuple.index(ind)}\")"
   ]
  },
  {
   "cell_type": "markdown",
   "id": "ac9e8bc4-c053-4a38-adf3-9807373cf296",
   "metadata": {},
   "source": [
    "# 13. Write a Python program to convert a tuple to a dictionary.\r\n"
   ]
  },
  {
   "cell_type": "code",
   "execution_count": null,
   "id": "52a8eb15-1f73-444a-b078-7da561ed523f",
   "metadata": {},
   "outputs": [],
   "source": [
    "ind_num = int(input(\"how many items you want in your tuple\"))\n",
    "mytuple = []\n",
    "for i in range(ind_num):\n",
    "    \n",
    "    items = input(f\"enter the elements of the tuple\")\n",
    "    mytuple.append(items)\n",
    "    \n",
    "  \n",
    "mytuple = tuple(mytuple)  \n",
    "mydict = {}\n",
    "\n",
    " \n",
    "for i in range(0, len(mytuple), 2):\n",
    "    key = mytuple[i]\n",
    "    value = mytuple[i + 1]\n",
    "    mydict[key] = value\n",
    "        \n",
    "        \n",
    "        \n",
    "\n",
    "    \n",
    "print(f\"The  dictionary is {mydict}\")"
   ]
  },
  {
   "cell_type": "markdown",
   "id": "117967f6-42a2-4bac-aff5-cc101d9e05ee",
   "metadata": {},
   "source": [
    "# 14. Write a Python program to unzip a list of tuples into individual lists.\r\n"
   ]
  },
  {
   "cell_type": "code",
   "execution_count": null,
   "id": "798f967c-22c6-48f3-873e-621363f133bd",
   "metadata": {},
   "outputs": [],
   "source": [
    "my_list_tuples = [(1,\"a\"),(2,\"b\"),(3,\"c\"),(4,\"d\")]\n",
    "mylist=[]\n",
    "mylist1 = []\n",
    "for item in my_list_tuples:\n",
    "    mylist.append(item[0])\n",
    "    mylist1.append(item[1])\n",
    "\n",
    "print(f\"{mylist1}and {mylist}\")"
   ]
  },
  {
   "cell_type": "markdown",
   "id": "f386b951-87cf-49b6-bdac-67f08d96fc6c",
   "metadata": {},
   "source": [
    "# 15. Write a Python program to reverse a tuple.\r\n"
   ]
  },
  {
   "cell_type": "code",
   "execution_count": null,
   "id": "9d28a643-c1c1-4500-9a07-24672bfb7568",
   "metadata": {},
   "outputs": [],
   "source": [
    "ind_num = int(input(\"how many items you want in your tuple\"))\n",
    "mytuple = []\n",
    "for i in range(ind_num):\n",
    "    n = 1 \n",
    "    items = input(f\"please enter your tuple elemnent number {n}\")\n",
    "    mytuple.append(items)\n",
    "    n+=n\n",
    "  \n",
    "mytuple.reverse()\n",
    "mytuplerevers = tuple(mytuple)  \n",
    "print(f\"your tuple is {mytuple}\")\n"
   ]
  },
  {
   "cell_type": "markdown",
   "id": "0395b19d-a8be-4cb8-ad76-1bd16c17cc6c",
   "metadata": {},
   "source": [
    "# 16. Write a Python program to convert a list of tuples into a dictionary.\r\n"
   ]
  },
  {
   "cell_type": "code",
   "execution_count": null,
   "id": "a61f14e8-78be-4daf-ab41-515710d82912",
   "metadata": {},
   "outputs": [],
   "source": [
    "my_list_tuples = [(1,\"a\"),(2,\"b\"),(3,\"c\"),(4,\"d\")]\n",
    "mylist=[]\n",
    "mylist1 = []\n",
    "mydic={}\n",
    "for item in my_list_tuples:\n",
    "    mylist.append(item[0])\n",
    "    mylist1.append(item[1])\n",
    "for i in range(len(my_list_tuples)):\n",
    "    mydic[mylist1[i]]=mylist[i]\n",
    "   \n",
    "print(mydic)"
   ]
  },
  {
   "cell_type": "markdown",
   "id": "b00e5008-0705-41d9-97b5-9b4f3547c110",
   "metadata": {},
   "source": [
    " # 17. Write a Python program to replace the last value of tuples in a list.\r\n"
   ]
  },
  {
   "cell_type": "code",
   "execution_count": null,
   "id": "bd5dba7a-d759-4244-ba0d-0be458d9cf6d",
   "metadata": {},
   "outputs": [],
   "source": [
    "ind_num = int(input(\"how many items you want in your tuple\"))\n",
    "mytuple = []\n",
    "for i in range(ind_num):\n",
    "    n = 1 \n",
    "    items = input(f\"please enter your tuple elemnent number {n}\")\n",
    "    mytuple.append(items)\n",
    "    n+=n\n",
    "  \n",
    "mytuple = tuple(mytuple)  \n",
    "print(f\"your tuple is {mytuple}\")\n",
    "print(f\"the last item of your tuple will be replace to \\\"iam sorry for late assignment\\\" \")\n",
    "mytuple = list(mytuple)\n",
    "mytuple[-1] = \"iam sorry for late assignment\"\n",
    "mytuple = tuple(mytuple)\n",
    "print(f\"your tuple is after replacing {mytuple}\")"
   ]
  },
  {
   "cell_type": "markdown",
   "id": "683c6f9b-cc07-48e4-ad83-274442e13ea6",
   "metadata": {},
   "source": [
    "# 18. Write a Python program to sort a tuple by its float element."
   ]
  },
  {
   "cell_type": "code",
   "execution_count": null,
   "id": "1effc02b-4a91-4e85-b02e-67c06489f575",
   "metadata": {},
   "outputs": [],
   "source": [
    "ind_num = int(input(\"How many float numbers do you want in your tuple \"))\n",
    "mytuple = []\n",
    "\n",
    "for i in range(ind_num):\n",
    "    items = float(input(f\"Please enter float number {i+1}: \"))\n",
    "    mytuple.append(items)\n",
    "\n",
    "sorted_tuple = tuple(sorted(mytuple))\n",
    "print(f\"Original tuple: {mytuple}\")\n",
    "print(f\"Sorted tuple by float elements {sorted_tuple}\")\n"
   ]
  }
 ],
 "metadata": {
  "kernelspec": {
   "display_name": "Python 3 (ipykernel)",
   "language": "python",
   "name": "python3"
  },
  "language_info": {
   "codemirror_mode": {
    "name": "ipython",
    "version": 3
   },
   "file_extension": ".py",
   "mimetype": "text/x-python",
   "name": "python",
   "nbconvert_exporter": "python",
   "pygments_lexer": "ipython3",
   "version": "3.12.4"
  }
 },
 "nbformat": 4,
 "nbformat_minor": 5
}
